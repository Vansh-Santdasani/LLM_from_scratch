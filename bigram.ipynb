{
 "cells": [
  {
   "cell_type": "code",
   "execution_count": 1,
   "metadata": {},
   "outputs": [
    {
     "name": "stdout",
     "output_type": "stream",
     "text": [
      "cuda\n"
     ]
    }
   ],
   "source": [
    "import torch\n",
    "import torch.nn as nn\n",
    "from torch.nn import functional as F\n",
    "device ='cuda' if torch.cuda.is_available() else 'cpu'\n",
    "print(device)\n",
    "block_size=8\n",
    "batch_size=4\n",
    "max_iters = 1000\n",
    "learning_rate = 3e-4\n",
    "eval_iters =250\n"
   ]
  },
  {
   "cell_type": "code",
   "execution_count": 2,
   "metadata": {},
   "outputs": [
    {
     "name": "stdout",
     "output_type": "stream",
     "text": [
      "['\\n', ' ', '!', '\"', '&', \"'\", '(', ')', '*', ',', '-', '.', '0', '1', '2', '3', '4', '5', '6', '7', '8', '9', ':', ';', '?', 'A', 'B', 'C', 'D', 'E', 'F', 'G', 'H', 'I', 'J', 'K', 'L', 'M', 'N', 'O', 'P', 'Q', 'R', 'S', 'T', 'U', 'V', 'W', 'X', 'Y', 'Z', '[', ']', '_', 'a', 'b', 'c', 'd', 'e', 'f', 'g', 'h', 'i', 'j', 'k', 'l', 'm', 'n', 'o', 'p', 'q', 'r', 's', 't', 'u', 'v', 'w', 'x', 'y', 'z', 'Â', 'Æ', 'È', 'É', 'Ü', 'à', 'ç', 'è', 'é', 'ê', 'ë', 'í', 'ï', 'ô', 'ü', '\\ufeff']\n"
     ]
    }
   ],
   "source": [
    "with open('book.txt','r', encoding='utf-8') as f:\n",
    "    text= f.read()\n",
    "chars=sorted(set(text))\n",
    "print(chars)\n",
    "vocab_size=(len(chars))"
   ]
  },
  {
   "cell_type": "code",
   "execution_count": 3,
   "metadata": {},
   "outputs": [
    {
     "name": "stdout",
     "output_type": "stream",
     "text": [
      "tensor([95,  0, 44, 32, 29,  1, 37, 33, 38, 28,  1, 25, 38, 28,  1, 44, 32, 29,\n",
      "         1, 26, 42, 25, 33, 38,  0,  0, 55, 78,  0,  0, 25, 36, 30, 42, 29, 28,\n",
      "         1, 26, 33, 38, 29, 44,  0,  0, 28, 62, 71, 58, 56, 73, 58, 74, 71,  1,\n",
      "        57, 74,  1, 36, 54, 55, 68, 71, 54, 73, 68, 62, 71, 58,  1, 57, 58,  1,\n",
      "        40, 72, 78, 56, 61, 68, 65, 68, 60, 62, 58,  0, 85,  1, 65, 54,  1, 43,\n",
      "        68, 71, 55, 68, 67, 67, 58,  0,  0, 26])\n"
     ]
    }
   ],
   "source": [
    "string_to_int = {ch:i for i,ch in enumerate(chars) }\n",
    "int_to_string = { i:ch for i,ch in enumerate(chars) }\n",
    "encode = lambda s: [string_to_int[c] for c in s]\n",
    "decode = lambda l: ''.join([int_to_string[i] for i in l])\n",
    "\n",
    "data= torch.tensor(encode(text), dtype=torch.long)\n",
    "\n",
    "print(data[:100])"
   ]
  },
  {
   "cell_type": "code",
   "execution_count": 4,
   "metadata": {},
   "outputs": [
    {
     "name": "stdout",
     "output_type": "stream",
     "text": [
      "inputs:\n",
      "tensor([[67, 58, 72, 72,  1, 57, 62, 58],\n",
      "        [72, 56, 65, 58,  1, 69, 71, 68],\n",
      "        [62, 72,  1, 73, 71, 74, 58,  1],\n",
      "        [72,  1, 67, 68, 73,  1, 62, 67]], device='cuda:0')\n",
      "targets:\n",
      "tensor([[58, 72, 72,  1, 57, 62, 58, 24],\n",
      "        [56, 65, 58,  1, 69, 71, 68, 57],\n",
      "        [72,  1, 73, 71, 74, 58,  1, 73],\n",
      "        [ 1, 67, 68, 73,  1, 62, 67, 56]], device='cuda:0')\n"
     ]
    }
   ],
   "source": [
    "n = int(0.8*len(data))\n",
    "train_data = data[:n]\n",
    "val_data = data[n:]\n",
    "\n",
    "\n",
    "def get_batch(split):\n",
    "    data =train_data if split =='train' else val_data\n",
    "    ix = torch.randint(len(data) - block_size, (batch_size,))\n",
    "    #print(ix)\n",
    "    x=torch.stack([data[i:i+block_size] for i in ix])\n",
    "    y= torch.stack([data[i+1:i+block_size+1] for i in ix])\n",
    "    x,y = x.to(device), y.to(device)\n",
    "    return x,y\n",
    "\n",
    "x,y = get_batch('train')\n",
    "print('inputs:')\n",
    "print(x)\n",
    "print('targets:')\n",
    "print(y)"
   ]
  },
  {
   "cell_type": "code",
   "execution_count": 5,
   "metadata": {},
   "outputs": [],
   "source": [
    "@torch.no_grad()\n",
    "def estimate_loss():\n",
    "    out = {}\n",
    "    model.eval()\n",
    "    for split in ['train', 'val']:\n",
    "        losses = torch.zeros(eval_iters)\n",
    "        for k in range(eval_iters):\n",
    "            X, Y = get_batch(split)\n",
    "            logits, loss = model(X, Y)\n",
    "            losses[k] = loss.item()\n",
    "        out[split] = losses.mean()\n",
    "        model.train()\n",
    "    return out"
   ]
  },
  {
   "cell_type": "code",
   "execution_count": 6,
   "metadata": {},
   "outputs": [
    {
     "name": "stdout",
     "output_type": "stream",
     "text": [
      "\n",
      "us![ígvFQ3èU\n",
      "EmNq0Q?GïëZ*fi,*fP8Y1vA[Fgü-.XfÂyazêCfBcÜ:6ÉÆcüdaMvüïIëoyzUqs![8íé]8gD\n",
      "26cjÈé\n",
      ",L.qdcÉn?íy&4ÂlRFh6fÂX]íLMh,sl.IVp*5J;1jyczdCfçDFDLkVo5g[È﻿7EÉ;rtT9NbÈ(éFUíZ8Q&,Un_Æb75CHxhïLyüN\"mW7:0Mà;rCüèüïLD];ëYàÜVQ';w7uG2aq 0D*4\"èSg0vOÆH]féL0Rêruf3éecm2Në4\"gOïLrCJjNcj\"tC\n",
      "CfCoÉ'!ü\n",
      "CH6VwzAaÜíqdNÈ(),7m4VtCHY1fëM;18jkíQë-r[çt_HJrCHYrF:alyM gï,JcUn﻿fekVa)gowsTOçNÂ3OíQ[4ÂM3EZ!N(ÉP0npqn ÆiFÆê5pp*hÜAT727jqLD6p u(v!oGQüÈ(ébô5l.I0X4!ëí\n",
      "_d!ÆgêC86s9dBm]7;eChhÈurü\n",
      "\n",
      "&pAÈ(QKh8Æi hf\"y&B5Cê4﻿_üPçy:HBkÉ4ZGns!:pME![\n"
     ]
    }
   ],
   "source": [
    "from torch import nn\n",
    "import torch.nn as nn\n",
    "\n",
    "class BigramLanguageModel(nn.Module):\n",
    "    def __init__(self,vocab_size):\n",
    "        super().__init__()\n",
    "        self.token_embedding_table = nn.Embedding(vocab_size, vocab_size)\n",
    "\n",
    "    def forward(self, index,targets = None):\n",
    "        logits = self.token_embedding_table(index)\n",
    "       \n",
    "        if targets is None:\n",
    "           loss = None\n",
    "        else:\n",
    "          B, T, C = logits.shape\n",
    "          logits = logits.view(B*T, C)\n",
    "          targets = targets.view(B*T)\n",
    "          loss = F.cross_entropy(logits, targets)\n",
    "\n",
    "        return logits, loss\n",
    "\n",
    "    \n",
    "    def generate(self, index, max_new_tokens):\n",
    "       #index is *B,T) array of indices in the current context\n",
    "       for _ in range(max_new_tokens):\n",
    "          #get the predictions\n",
    "          logits, loss = self.forward(index)\n",
    "          #focus onlly on the last time step\n",
    "          logits = logits[:, -1, :] # becomes (B,C)\n",
    "          #apply softmax to get probablilites\n",
    "          probs = F.softmax(logits, dim =-1)\n",
    "          #sample from distribution\n",
    "          index_next = torch.multinomial(probs, num_samples=1)\n",
    "          index = torch.cat((index, index_next), dim=1)\n",
    "        \n",
    "       return index\n",
    "    \n",
    "model = BigramLanguageModel(vocab_size)\n",
    "m = model.to(device)\n",
    "\n",
    "context = torch.zeros((1,1),dtype = torch.long, device = device)\n",
    "generated_chars = decode(m.generate(context, max_new_tokens=500)[0].tolist())\n",
    "print(generated_chars)"
   ]
  },
  {
   "cell_type": "code",
   "execution_count": 7,
   "metadata": {},
   "outputs": [
    {
     "name": "stdout",
     "output_type": "stream",
     "text": [
      "step: 0, train loss: 5.057, val loss: 5.041\n",
      "step: 250, train loss: 4.981, val loss: 4.981\n",
      "step: 500, train loss: 4.934, val loss: 4.921\n",
      "step: 750, train loss: 4.851, val loss: 4.849\n",
      "4.826185703277588\n"
     ]
    }
   ],
   "source": [
    "\n",
    "\n",
    "optimizer = torch.optim.AdamW(model.parameters(), lr=learning_rate)\n",
    "\n",
    "for iter in range(max_iters):\n",
    "    \n",
    "    if iter % eval_iters ==0:   ##checks if remainder of current iteration by eval iter is 0 \n",
    "        losses= estimate_loss()\n",
    "        \n",
    "        print(f\"step: {iter}, train loss: {losses['train']:.3f}, val loss: {losses['val']:.3f}\")   \n",
    "    #sample a batch of data\n",
    "    xb, yb = get_batch('train')\n",
    "\n",
    "    ##evaluate the loss\n",
    "    logits, loss = model.forward(xb, yb)\n",
    "    optimizer.zero_grad(set_to_none=True)\n",
    "    loss.backward()\n",
    "    optimizer.step()\n",
    "print(loss.item())"
   ]
  },
  {
   "cell_type": "code",
   "execution_count": 8,
   "metadata": {},
   "outputs": [
    {
     "name": "stdout",
     "output_type": "stream",
     "text": [
      "\n",
      "ôïc-h.Vx﻿ZVus!o﻿_Â;7Mh\n",
      "ôpK6dYS8È2çPy[këJ çq9Uühc]&﻿-6Én\"GXCcVôQÂ\n",
      "Y]d1bZàw)Xhh90(Otty1x﻿8hgQ9Rs!PÆDA*HYuCmG)NÈ(jFÜ7çy&_ E_eCH.x,m7 YhcÜS&!E4hdhígjpX7Aj&É\n",
      "PQ2&bSèK9[gc4S6ÜhïQUe1BC)ë4_çkQ?KGpM:usë9ôGB*4: y:uÆf.8sÈï!EÉRLÈ(\"I8X1'?tÂ F*c([KOb0R3êrônCHOlMHl﻿aJoÉI1UJOüÈ(S3È(e'HuiQÉíIQ2GQve)Éüb52uJ -KÜíTa!:ï?oíïWs]&È'àY!degEjEtëLg-sQt4Elf tyS)ph_Jé0R!Jm7YyÉPScjN78hïL.C]zq!5ELXfZQaYÂ&﻿ÈyMb HvX(WjDk6éT﻿2g-éÈX, KbTv-ü\n",
      "ZÂ?]Vu.9u0y8ÉjZuFDíhÈ3Wvsí7mnVQK6?osA1*F7YpérB&,5RPqí\n",
      "vqs,èU bl'pPf)çq4XB&É.nJJé7fëGF﻿N'Hu\n"
     ]
    }
   ],
   "source": [
    "context = torch.zeros((1,1), dtype =torch.long, device= device)\n",
    "generated_chars = decode(m.generate(context, max_new_tokens=500)[0].tolist())\n",
    "print(generated_chars)"
   ]
  },
  {
   "cell_type": "code",
   "execution_count": null,
   "metadata": {},
   "outputs": [],
   "source": []
  }
 ],
 "metadata": {
  "kernelspec": {
   "display_name": "tf_gpu",
   "language": "python",
   "name": "python3"
  },
  "language_info": {
   "codemirror_mode": {
    "name": "ipython",
    "version": 3
   },
   "file_extension": ".py",
   "mimetype": "text/x-python",
   "name": "python",
   "nbconvert_exporter": "python",
   "pygments_lexer": "ipython3",
   "version": "3.9.0"
  }
 },
 "nbformat": 4,
 "nbformat_minor": 2
}
